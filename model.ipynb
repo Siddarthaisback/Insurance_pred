{
 "cells": [
  {
   "cell_type": "code",
   "execution_count": 52,
   "metadata": {},
   "outputs": [],
   "source": [
    "import numpy as np\n",
    "import pandas as pd\n",
    "import matplotlib.pyplot as plt\n",
    "import seaborn as sns\n",
    "from sklearn.model_selection import train_test_split, GridSearchCV\n",
    "from sklearn.ensemble import RandomForestRegressor\n",
    "from sklearn.linear_model import LinearRegression\n",
    "from sklearn.compose import ColumnTransformer\n",
    "from sklearn.metrics import r2_score, mean_squared_error, mean_absolute_error\n",
    "import pickle\n",
    "from sklearn.preprocessing import StandardScaler, OneHotEncoder\n"
   ]
  },
  {
   "cell_type": "code",
   "execution_count": 53,
   "metadata": {},
   "outputs": [],
   "source": [
    "df = pd.read_csv(\"insurance.csv\")"
   ]
  },
  {
   "cell_type": "code",
   "execution_count": 54,
   "metadata": {},
   "outputs": [
    {
     "name": "stdout",
     "output_type": "stream",
     "text": [
      "   age     sex     bmi  children smoker     region      charges\n",
      "0   19  female  27.900         0    yes  southwest  16884.92400\n",
      "1   18    male  33.770         1     no  southeast   1725.55230\n",
      "2   28    male  33.000         3     no  southeast   4449.46200\n",
      "3   33    male  22.705         0     no  northwest  21984.47061\n",
      "4   32    male  28.880         0     no  northwest   3866.85520\n"
     ]
    }
   ],
   "source": [
    "print(df.head())"
   ]
  },
  {
   "cell_type": "code",
   "execution_count": 40,
   "metadata": {},
   "outputs": [
    {
     "name": "stdout",
     "output_type": "stream",
     "text": [
      "0       southwest\n",
      "1       southeast\n",
      "2       southeast\n",
      "3       northwest\n",
      "4       northwest\n",
      "          ...    \n",
      "1333    northwest\n",
      "1334    northeast\n",
      "1335    southeast\n",
      "1336    southwest\n",
      "1337    northwest\n",
      "Name: region, Length: 1338, dtype: object\n"
     ]
    }
   ],
   "source": [
    "print(df[\"region\"])"
   ]
  },
  {
   "cell_type": "code",
   "execution_count": 55,
   "metadata": {},
   "outputs": [],
   "source": [
    "df['sex'] = df['sex'].map({'female': 0, 'male': 1})\n",
    "df['smoker'] = df['smoker'].map({'yes':1, 'no':2})\n"
   ]
  },
  {
   "cell_type": "code",
   "execution_count": 56,
   "metadata": {},
   "outputs": [
    {
     "name": "stdout",
     "output_type": "stream",
     "text": [
      "   age  sex     bmi  children  smoker     region      charges\n",
      "0   19    0  27.900         0       1  southwest  16884.92400\n",
      "1   18    1  33.770         1       2  southeast   1725.55230\n",
      "2   28    1  33.000         3       2  southeast   4449.46200\n",
      "3   33    1  22.705         0       2  northwest  21984.47061\n",
      "4   32    1  28.880         0       2  northwest   3866.85520\n"
     ]
    }
   ],
   "source": [
    "print(df.head())"
   ]
  },
  {
   "cell_type": "code",
   "execution_count": 44,
   "metadata": {},
   "outputs": [
    {
     "name": "stdout",
     "output_type": "stream",
     "text": [
      "Index(['age', 'sex', 'bmi', 'children', 'smoker', 'charges',\n",
      "       'region_northwest', 'region_southeast', 'region_southwest'],\n",
      "      dtype='object')\n"
     ]
    }
   ],
   "source": [
    "print(df.columns)"
   ]
  },
  {
   "cell_type": "code",
   "execution_count": 64,
   "metadata": {},
   "outputs": [],
   "source": [
    "numerical_cols = ['age', 'bmi', 'children', 'sex', 'smoker'] \n",
    "non_numerical_cols=['region']"
   ]
  },
  {
   "cell_type": "code",
   "execution_count": 65,
   "metadata": {},
   "outputs": [
    {
     "name": "stdout",
     "output_type": "stream",
     "text": [
      "[[-1.43876426 -0.45332    -0.90861367 -1.0105187  -1.97058663]\n",
      " [-1.50996545  0.5096211  -0.07876719  0.98959079  0.5074631 ]\n",
      " [-0.79795355  0.38330685  1.58092576  0.98959079  0.5074631 ]\n",
      " ...\n",
      " [-1.50996545  1.0148781  -0.90861367 -1.0105187   0.5074631 ]\n",
      " [-1.29636188 -0.79781341 -0.90861367 -1.0105187   0.5074631 ]\n",
      " [ 1.55168573 -0.26138796 -0.90861367 -1.0105187  -1.97058663]]\n"
     ]
    }
   ],
   "source": [
    "scaler = StandardScaler()\n",
    "scaled_data = scaler.fit_transform(df[numerical_cols])\n",
    "print(scaled_data)"
   ]
  },
  {
   "cell_type": "code",
   "execution_count": 68,
   "metadata": {},
   "outputs": [],
   "source": [
    "encoder = OneHotEncoder(drop='first',sparse_output=False)\n",
    "region_encoded = encoder.fit_transform(df[non_numerical_cols])"
   ]
  },
  {
   "cell_type": "code",
   "execution_count": 75,
   "metadata": {},
   "outputs": [
    {
     "name": "stdout",
     "output_type": "stream",
     "text": [
      "      region_northwest  region_southeast  region_southwest\n",
      "0                  0.0               0.0               1.0\n",
      "1                  0.0               1.0               0.0\n",
      "2                  0.0               1.0               0.0\n",
      "3                  1.0               0.0               0.0\n",
      "4                  1.0               0.0               0.0\n",
      "...                ...               ...               ...\n",
      "1333               1.0               0.0               0.0\n",
      "1334               0.0               0.0               0.0\n",
      "1335               0.0               1.0               0.0\n",
      "1336               0.0               0.0               1.0\n",
      "1337               1.0               0.0               0.0\n",
      "\n",
      "[1338 rows x 3 columns]\n"
     ]
    }
   ],
   "source": [
    "region_df = pd.DataFrame(\n",
    "    region_encoded, \n",
    "    columns=encoder.get_feature_names_out(['region']),\n",
    "    index=df.index\n",
    ")\n",
    "print(region_df)\n"
   ]
  },
  {
   "cell_type": "code",
   "execution_count": 73,
   "metadata": {},
   "outputs": [
    {
     "name": "stdout",
     "output_type": "stream",
     "text": [
      "      age  sex     bmi  children  smoker     region      charges  \\\n",
      "0      19    0  27.900         0       1  southwest  16884.92400   \n",
      "1      18    1  33.770         1       2  southeast   1725.55230   \n",
      "2      28    1  33.000         3       2  southeast   4449.46200   \n",
      "3      33    1  22.705         0       2  northwest  21984.47061   \n",
      "4      32    1  28.880         0       2  northwest   3866.85520   \n",
      "...   ...  ...     ...       ...     ...        ...          ...   \n",
      "1333   50    1  30.970         3       2  northwest  10600.54830   \n",
      "1334   18    0  31.920         0       2  northeast   2205.98080   \n",
      "1335   18    0  36.850         0       2  southeast   1629.83350   \n",
      "1336   21    0  25.800         0       2  southwest   2007.94500   \n",
      "1337   61    0  29.070         0       1  northwest  29141.36030   \n",
      "\n",
      "      region_northwest  region_southeast  region_southwest  \n",
      "0                  0.0               0.0               1.0  \n",
      "1                  0.0               1.0               0.0  \n",
      "2                  0.0               1.0               0.0  \n",
      "3                  1.0               0.0               0.0  \n",
      "4                  1.0               0.0               0.0  \n",
      "...                ...               ...               ...  \n",
      "1333               1.0               0.0               0.0  \n",
      "1334               0.0               0.0               0.0  \n",
      "1335               0.0               1.0               0.0  \n",
      "1336               0.0               0.0               1.0  \n",
      "1337               1.0               0.0               0.0  \n",
      "\n",
      "[1338 rows x 10 columns]\n"
     ]
    }
   ],
   "source": [
    "df_processed = pd.concat([df,region_df],axis=1)\n",
    "print(df_processed)"
   ]
  },
  {
   "cell_type": "code",
   "execution_count": 77,
   "metadata": {},
   "outputs": [
    {
     "name": "stdout",
     "output_type": "stream",
     "text": [
      "           age       bmi  children       sex    smoker\n",
      "0    -1.438764 -0.453320 -0.908614 -1.010519 -1.970587\n",
      "1    -1.509965  0.509621 -0.078767  0.989591  0.507463\n",
      "2    -0.797954  0.383307  1.580926  0.989591  0.507463\n",
      "3    -0.441948 -1.305531 -0.908614  0.989591  0.507463\n",
      "4    -0.513149 -0.292556 -0.908614  0.989591  0.507463\n",
      "...        ...       ...       ...       ...       ...\n",
      "1333  0.768473  0.050297  1.580926  0.989591  0.507463\n",
      "1334 -1.509965  0.206139 -0.908614 -1.010519  0.507463\n",
      "1335 -1.509965  1.014878 -0.908614 -1.010519  0.507463\n",
      "1336 -1.296362 -0.797813 -0.908614 -1.010519  0.507463\n",
      "1337  1.551686 -0.261388 -0.908614 -1.010519 -1.970587\n",
      "\n",
      "[1338 rows x 5 columns]\n"
     ]
    }
   ],
   "source": [
    "scaled_numerical_df = pd.DataFrame(\n",
    "    scaled_data,\n",
    "    columns=numerical_cols,\n",
    "    index=df.index  # This ensures the indices match\n",
    ")\n",
    "print(scaled_numerical_df)"
   ]
  },
  {
   "cell_type": "code",
   "execution_count": 78,
   "metadata": {},
   "outputs": [],
   "source": [
    "X = pd.concat([scaled_numerical_df, region_df], axis=1)"
   ]
  },
  {
   "cell_type": "code",
   "execution_count": 82,
   "metadata": {},
   "outputs": [],
   "source": [
    "y =(df['charges'])"
   ]
  },
  {
   "cell_type": "code",
   "execution_count": 83,
   "metadata": {},
   "outputs": [],
   "source": [
    "X_train, X_test, y_train, y_test = train_test_split(X, y, test_size=0.2, random_state=42)\n"
   ]
  },
  {
   "cell_type": "code",
   "execution_count": 85,
   "metadata": {},
   "outputs": [],
   "source": [
    "lr_model = LinearRegression()\n",
    "lr_model.fit(X_train, y_train)\n",
    "lr_pred = lr_model.predict(X_test)\n",
    "lr_mse = mean_squared_error(y_test, lr_pred)\n",
    "lr_r2 = r2_score(y_test, lr_pred)"
   ]
  },
  {
   "cell_type": "code",
   "execution_count": 86,
   "metadata": {},
   "outputs": [
    {
     "name": "stdout",
     "output_type": "stream",
     "text": [
      "Linear Regression Metrics:\n",
      "  MSE: 33596915.85136149\n",
      "  R² : 0.7835929767120722\n"
     ]
    }
   ],
   "source": [
    "print(\"Linear Regression Metrics:\")\n",
    "print(\"  MSE:\", lr_mse)\n",
    "print(\"  R² :\", lr_r2)"
   ]
  },
  {
   "cell_type": "code",
   "execution_count": 87,
   "metadata": {},
   "outputs": [],
   "source": [
    "rf_model = RandomForestRegressor(random_state=42)\n",
    "rf_model.fit(X_train, y_train)\n",
    "rf_pred = rf_model.predict(X_test)\n",
    "rf_mse = mean_squared_error(y_test, rf_pred)\n",
    "rf_r2 = r2_score(y_test, rf_pred)"
   ]
  },
  {
   "cell_type": "code",
   "execution_count": 88,
   "metadata": {},
   "outputs": [
    {
     "name": "stdout",
     "output_type": "stream",
     "text": [
      "\n",
      "Random Forest Metrics:\n",
      "  MSE: 20750380.973297\n",
      "  R² : 0.8663410594475837\n"
     ]
    }
   ],
   "source": [
    "print(\"\\nRandom Forest Metrics:\")\n",
    "print(\"  MSE:\", rf_mse)\n",
    "print(\"  R² :\", rf_r2)"
   ]
  },
  {
   "cell_type": "code",
   "execution_count": 89,
   "metadata": {},
   "outputs": [
    {
     "name": "stdout",
     "output_type": "stream",
     "text": [
      "\n",
      "Selected model: Random Forest\n"
     ]
    }
   ],
   "source": [
    "best_model = rf_model if rf_r2 > lr_r2 else lr_model\n",
    "print(\"\\nSelected model:\", \"Random Forest\" if best_model is rf_model else \"Linear Regression\")"
   ]
  },
  {
   "cell_type": "code",
   "execution_count": 94,
   "metadata": {},
   "outputs": [
    {
     "name": "stdout",
     "output_type": "stream",
     "text": [
      "Best model saved as insurance_model.pkl'\n"
     ]
    }
   ],
   "source": [
    "# Save the best model using pickle\n",
    "with open('insurance_model.pkl', 'wb') as file:\n",
    "    pickle.dump(best_model, file)\n",
    "\n",
    "with open('scaler.pkl', 'wb') as file:\n",
    "    pickle.dump(scaler, file)\n",
    "\n",
    "with open('encoder.pkl', 'wb') as file:\n",
    "    pickle.dump(encoder, file)\n",
    "\n",
    "\n",
    "print(\"Best model saved as insurance_model.pkl'\")"
   ]
  },
  {
   "cell_type": "code",
   "execution_count": null,
   "metadata": {},
   "outputs": [
    {
     "name": "stdout",
     "output_type": "stream",
     "text": [
      "Linear Regression Metrics:\n",
      "  MSE: 33596915.85136148\n",
      "  R² : 0.7835929767120722\n",
      "\n",
      "Random Forest Metrics:\n",
      "  MSE: 20867794.91145395\n",
      "  R² : 0.865584763811357\n",
      "\n",
      "Selected model: Random Forest\n",
      "Model and preprocessor saved as insurance_model.pkl.\n"
     ]
    }
   ],
   "source": []
  },
  {
   "cell_type": "code",
   "execution_count": null,
   "metadata": {},
   "outputs": [],
   "source": [
    "import numpy as np\n",
    "import pandas as pd\n",
    "import matplotlib.pyplot as plt\n",
    "import seaborn as sns\n",
    "from sklearn.model_selection import train_test_split, GridSearchCV\n",
    "from sklearn.ensemble import RandomForestRegressor\n",
    "from sklearn.linear_model import LinearRegression\n",
    "from sklearn.compose import ColumnTransformer\n",
    "from sklearn.metrics import r2_score, mean_squared_error, mean_absolute_error\n",
    "import pickle\n",
    "from sklearn.preprocessing import StandardScaler, OneHotEncoder\n",
    "\n",
    "df = pd.read_csv(\"insurance.csv\")\n",
    "print(df.head())\n",
    "print(df[\"region\"])\n",
    "df['sex'] = df['sex'].map({'female': 0, 'male': 1})\n",
    "df['smoker'] = df['smoker'].map({'yes':1, 'no':2})\n",
    "\n",
    "print(df.head())\n",
    "print(df.columns)\n",
    "numerical_cols = ['age', 'bmi', 'children', 'sex', 'smoker'] \n",
    "non_numerical_cols=['region']\n",
    "scaler = StandardScaler()\n",
    "scaled_data = scaler.fit_transform(df[numerical_cols])\n",
    "print(scaled_data)\n",
    "encoder = OneHotEncoder(drop='first',sparse_output=False)\n",
    "region_encoded = encoder.fit_transform(df[non_numerical_cols])\n",
    "region_df = pd.DataFrame(\n",
    "    region_encoded, \n",
    "    columns=encoder.get_feature_names_out(['region']),\n",
    "    index=df.index\n",
    ")\n",
    "print(region_df)\n",
    "\n",
    "df_processed = pd.concat([df,region_df],axis=1)\n",
    "print(df_processed)\n",
    "scaled_numerical_df = pd.DataFrame(\n",
    "    scaled_data,\n",
    "    columns=numerical_cols,\n",
    "    index=df.index  # This ensures the indices match\n",
    ")\n",
    "print(scaled_numerical_df)\n",
    "X = pd.concat([scaled_numerical_df, region_df], axis=1)\n",
    "y =(df['charges'])\n",
    "X_train, X_test, y_train, y_test = train_test_split(X, y, test_size=0.2, random_state=42)\n",
    "\n",
    "lr_model = LinearRegression()\n",
    "lr_model.fit(X_train, y_train)\n",
    "lr_pred = lr_model.predict(X_test)\n",
    "lr_mse = mean_squared_error(y_test, lr_pred)\n",
    "lr_r2 = r2_score(y_test, lr_pred)\n",
    "print(\"Linear Regression Metrics:\")\n",
    "print(\"  MSE:\", lr_mse)\n",
    "print(\"  R² :\", lr_r2)\n",
    "rf_model = RandomForestRegressor(random_state=42)\n",
    "rf_model.fit(X_train, y_train)\n",
    "rf_pred = rf_model.predict(X_test)\n",
    "rf_mse = mean_squared_error(y_test, rf_pred)\n",
    "rf_r2 = r2_score(y_test, rf_pred)\n",
    "print(\"\\nRandom Forest Metrics:\")\n",
    "print(\"  MSE:\", rf_mse)\n",
    "print(\"  R² :\", rf_r2)\n",
    "best_model = rf_model if rf_r2 > lr_r2 else lr_model\n",
    "print(\"\\nSelected model:\", \"Random Forest\" if best_model is rf_model else \"Linear Regression\")\n",
    "\n"
   ]
  }
 ],
 "metadata": {
  "kernelspec": {
   "display_name": "env",
   "language": "python",
   "name": "python3"
  },
  "language_info": {
   "codemirror_mode": {
    "name": "ipython",
    "version": 3
   },
   "file_extension": ".py",
   "mimetype": "text/x-python",
   "name": "python",
   "nbconvert_exporter": "python",
   "pygments_lexer": "ipython3",
   "version": "3.11.7"
  }
 },
 "nbformat": 4,
 "nbformat_minor": 2
}
